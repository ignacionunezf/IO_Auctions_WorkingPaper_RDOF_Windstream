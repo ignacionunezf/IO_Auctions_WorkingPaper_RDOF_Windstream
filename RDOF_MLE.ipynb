{
 "cells": [
  {
   "cell_type": "markdown",
   "metadata": {},
   "source": [
    "Code that can be used to estimate descending button auctions\n",
    "(see working paper on Windstream and the RDOF)\n",
    "Ignacio Nunez, PhD Candidate in Economics, UT-Austin, ijnunez@utexas.edu"
   ]
  },
  {
   "cell_type": "code",
   "execution_count": null,
   "metadata": {},
   "outputs": [],
   "source": [
    "from IPython.core.interactiveshell import InteractiveShell\n",
    "InteractiveShell.ast_node_interactivity = \"all\""
   ]
  },
  {
   "cell_type": "code",
   "execution_count": null,
   "metadata": {},
   "outputs": [],
   "source": [
    "import numpy as np\n",
    "import pandas as pd\n",
    "from matplotlib import pyplot as plt\n",
    "import seaborn as sns\n",
    "from statsmodels import api\n",
    "from scipy import stats\n",
    "from scipy import optimize\n",
    "from scipy.optimize import minimize \n",
    "from scipy.optimize import show_options"
   ]
  },
  {
   "cell_type": "markdown",
   "metadata": {},
   "source": [
    "# 1. Create sample with known parameters"
   ]
  },
  {
   "cell_type": "code",
   "execution_count": null,
   "metadata": {},
   "outputs": [],
   "source": [
    "#competitors parameters\n",
    "mu_1=0; \n",
    "mu_1x=0.5;\n",
    "mu_1y=2;\n",
    "st_1=0.5;\n",
    "\n",
    "#Windstream parameters\n",
    "mu_2=0;\n",
    "mu_2x=0.5;\n",
    "mu_2d=2;\n",
    "st_2=0.5;\n",
    "kappa=0.5;"
   ]
  },
  {
   "cell_type": "code",
   "execution_count": null,
   "metadata": {},
   "outputs": [],
   "source": [
    "sample_size=500\n",
    "# generate an independent variable \n",
    "x = np.linspace(-1, 2, sample_size)\n",
    "# generate two normally distributed independent variables  residual\n",
    "y = np.random.normal(0, 1, sample_size)\n",
    "d = np.random.normal(0, 1, sample_size)\n",
    "\n",
    "#Create sample\n",
    "xi=np.random.normal(0, st_1, sample_size);\n",
    "epsilon=xi*kappa+np.random.normal(0, st_2, sample_size);\n",
    "X1 = mu_1+x*mu_1x+y*mu_1y+xi; #Competitors\n",
    "X2 = mu_2+x*mu_2x+d*mu_2d+epsilon; #Windstream\n",
    "\n",
    "df = pd.DataFrame({'x':x, 'y':y, 'd':d, 'Rivals':X1, 'Windstream':X2})\n",
    "df.head()"
   ]
  },
  {
   "cell_type": "code",
   "execution_count": null,
   "metadata": {},
   "outputs": [],
   "source": [
    "df['Observed_LastBid']=0\n",
    "df['Censored']=0\n",
    "df.loc[df['Rivals']>=df['Windstream'],'Observed_LastBid']=df.loc[df['Rivals']>=df['Windstream'],'Rivals']\n",
    "df.loc[df['Rivals']>=df['Windstream'],'Censored']=1\n",
    "df.loc[df['Rivals']<df['Windstream'],'Observed_LastBid']=df.loc[df['Rivals']<df['Windstream'],'Windstream']\n",
    "df.head()\n",
    "\n",
    "Sample=df[['x','y','d','Observed_LastBid','Censored']]\n",
    "Sample['constant']=1\n",
    "Sample.head()"
   ]
  },
  {
   "cell_type": "markdown",
   "metadata": {},
   "source": [
    "# 2. Generate simulation draws for SMLE estimation"
   ]
  },
  {
   "cell_type": "code",
   "execution_count": null,
   "metadata": {},
   "outputs": [],
   "source": [
    "sim_draws = np.random.normal(0, 1, 1000)\n",
    "df_draws = pd.DataFrame({'draws':sim_draws})\n",
    "df_draws['constant']=1\n",
    "df_draws.head()"
   ]
  },
  {
   "cell_type": "markdown",
   "metadata": {},
   "source": [
    "# 3. Define Likelihood function"
   ]
  },
  {
   "cell_type": "code",
   "execution_count": null,
   "metadata": {},
   "outputs": [],
   "source": [
    "# Likelihood function\n",
    "def Likelihood(parameters):\n",
    "    mu_1, mu_1x, mu_1y,st_1,mu_2,mu_2x,mu_2d,st_2,kappa= parameters\n",
    "    st_1=np.abs(st_1+0.001)\n",
    "    st_2=np.abs(st_2+0.001)\n",
    "\n",
    "    aux=Sample.copy()\n",
    "    aux['Windstream']=mu_2*aux['constant']+mu_2x*aux['x']+mu_2d*aux['d'] #mean utility Windstream   \n",
    "    aux['Rivals']=mu_1*aux['constant']+mu_1x*aux['x']+mu_1y*aux['y'] #mean utility rivals\n",
    "\n",
    "    aux_unc = aux.loc[aux['Censored']==0,:] \n",
    "    aux_cen = aux.loc[aux['Censored']==1,:] \n",
    "\n",
    "    LL1 = np.sum(stats.norm.logpdf(((aux_cen['Observed_LastBid']-aux_cen['Rivals'])/st_1), 0, 1))\n",
    "    LL2 = np.sum(stats.norm.logcdf(((aux_cen['Observed_LastBid']-aux_cen['Windstream']-kappa*(aux_cen['Observed_LastBid']-aux_cen['Rivals']))/st_2).to_numpy(), 0, 1))\n",
    "    LL=LL1+LL2+aux_cen.shape[0]*np.log(1/st_1)\n",
    "    #aux_unc['cdf_aux'] = np.nan\n",
    "    aux_unc['cdf_aux'] = stats.norm.cdf((aux_unc['Observed_LastBid']-aux_unc['Rivals']), 0, st_1).tolist()\n",
    "    LL=LL+(aux_unc.loc[aux_unc['cdf_aux']<=0.001,:].shape[0])*(np.log(0.00000001)+np.log(1/(st_2)))\n",
    "    \n",
    "    for index, row in aux_unc.loc[aux_unc['cdf_aux']>0.001,:].iterrows():\n",
    "            aux_draws=df_draws.copy()\n",
    "            aux_draws['draws']=aux_draws['draws']*st_1\n",
    "            aux_draws=aux_draws.loc[(aux_draws['draws']<(row['Observed_LastBid']-row['Rivals'])),:]\n",
    "            aux_draws_num=aux_draws.shape[0]\n",
    "            if aux_draws_num>=1:\n",
    "                LL3=np.sum(stats.norm.pdf(((row['Observed_LastBid']*aux_draws['constant']-row['Windstream']*aux_draws['constant']-kappa*aux_draws['draws'])/(st_2))))\n",
    "                LL=LL+np.log((LL3/aux_draws_num)*stats.norm.cdf((row['Observed_LastBid']-row['Rivals']), 0, st_1)+0.000000001)+np.log(1/(st_2))\n",
    "            else:\n",
    "                LL=LL+np.log(0.00000001)+np.log(1/(st_2))\n",
    "\n",
    "    neg_LL=-LL            \n",
    "    return neg_LL "
   ]
  },
  {
   "cell_type": "markdown",
   "metadata": {},
   "source": [
    "# 4. Find parameters that maximize the log-likelihood"
   ]
  },
  {
   "cell_type": "code",
   "execution_count": null,
   "metadata": {},
   "outputs": [],
   "source": [
    "pd.options.mode.chained_assignment = None  # default='warn'"
   ]
  },
  {
   "cell_type": "code",
   "execution_count": null,
   "metadata": {
    "scrolled": true
   },
   "outputs": [],
   "source": [
    "#model = minimize(Likelihood, np.array([1,1,1,1,1,1,1,1,0]), method='Nelder-Mead',options={'disp': True})\n",
    "model = optimize.fmin(Likelihood, np.array([1,1,1,1,1,1,1,1,0]))"
   ]
  },
  {
   "cell_type": "code",
   "execution_count": null,
   "metadata": {},
   "outputs": [],
   "source": [
    "model2 = optimize.fmin(Likelihood, model)\n",
    "model2"
   ]
  },
  {
   "cell_type": "code",
   "execution_count": null,
   "metadata": {
    "scrolled": true
   },
   "outputs": [],
   "source": [
    "np.array([mu_1, mu_1x, mu_1y,st_1,mu_2,mu_2x,mu_2d,st_2,kappa])"
   ]
  },
  {
   "cell_type": "code",
   "execution_count": null,
   "metadata": {
    "scrolled": true
   },
   "outputs": [],
   "source": [
    "Likelihood(np.array([1,1,1,1,1,1,1,1,0]))\n",
    "Likelihood(model2.x)\n",
    "Likelihood(np.array([mu_1, mu_1x, mu_1y,st_1,mu_2,mu_2x,mu_2d,st_2,kappa]))"
   ]
  },
  {
   "cell_type": "code",
   "execution_count": null,
   "metadata": {},
   "outputs": [],
   "source": []
  }
 ],
 "metadata": {
  "kernelspec": {
   "display_name": "Python 3",
   "language": "python",
   "name": "python3"
  },
  "language_info": {
   "codemirror_mode": {
    "name": "ipython",
    "version": 3
   },
   "file_extension": ".py",
   "mimetype": "text/x-python",
   "name": "python",
   "nbconvert_exporter": "python",
   "pygments_lexer": "ipython3",
   "version": "3.8.5"
  }
 },
 "nbformat": 4,
 "nbformat_minor": 4
}
