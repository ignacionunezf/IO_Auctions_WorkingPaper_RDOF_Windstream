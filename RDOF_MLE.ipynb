{
 "cells": [
  {
   "cell_type": "markdown",
   "metadata": {},
   "source": [
    "Code that can be used to estimate descending button auctions\n",
    "(see working paper on Windstream and the RDOF)\n",
    "Ignacio Nunez, PhD Candidate in Economics, UT-Austin, ijnunez@utexas.edu"
   ]
  },
  {
   "cell_type": "code",
   "execution_count": 45,
   "metadata": {},
   "outputs": [],
   "source": [
    "from IPython.core.interactiveshell import InteractiveShell\n",
    "InteractiveShell.ast_node_interactivity = \"all\""
   ]
  },
  {
   "cell_type": "code",
   "execution_count": 62,
   "metadata": {},
   "outputs": [],
   "source": [
    "import numpy as np\n",
    "import pandas as pd\n",
    "from matplotlib import pyplot as plt\n",
    "import seaborn as sns\n",
    "from statsmodels import api\n",
    "from scipy import stats\n",
    "from scipy import optimize\n",
    "from scipy.optimize import minimize \n",
    "from scipy.optimize import show_options"
   ]
  },
  {
   "cell_type": "markdown",
   "metadata": {},
   "source": [
    "# 1. Create sample with known parameters"
   ]
  },
  {
   "cell_type": "code",
   "execution_count": 47,
   "metadata": {},
   "outputs": [],
   "source": [
    "#competitors parameters\n",
    "mu_1=0; \n",
    "mu_1x=0.5;\n",
    "mu_1y=2;\n",
    "st_1=0.5;\n",
    "\n",
    "#Windstream parameters\n",
    "mu_2=0;\n",
    "mu_2x=0.5;\n",
    "mu_2d=2;\n",
    "st_2=0.5;\n",
    "kappa=0.5;"
   ]
  },
  {
   "cell_type": "code",
   "execution_count": 48,
   "metadata": {},
   "outputs": [
    {
     "data": {
      "text/html": [
       "<div>\n",
       "<style scoped>\n",
       "    .dataframe tbody tr th:only-of-type {\n",
       "        vertical-align: middle;\n",
       "    }\n",
       "\n",
       "    .dataframe tbody tr th {\n",
       "        vertical-align: top;\n",
       "    }\n",
       "\n",
       "    .dataframe thead th {\n",
       "        text-align: right;\n",
       "    }\n",
       "</style>\n",
       "<table border=\"1\" class=\"dataframe\">\n",
       "  <thead>\n",
       "    <tr style=\"text-align: right;\">\n",
       "      <th></th>\n",
       "      <th>x</th>\n",
       "      <th>y</th>\n",
       "      <th>d</th>\n",
       "      <th>Rivals</th>\n",
       "      <th>Windstream</th>\n",
       "    </tr>\n",
       "  </thead>\n",
       "  <tbody>\n",
       "    <tr>\n",
       "      <th>0</th>\n",
       "      <td>-1.000000</td>\n",
       "      <td>2.017288</td>\n",
       "      <td>0.149086</td>\n",
       "      <td>3.057529</td>\n",
       "      <td>-0.292670</td>\n",
       "    </tr>\n",
       "    <tr>\n",
       "      <th>1</th>\n",
       "      <td>-0.993988</td>\n",
       "      <td>-1.772899</td>\n",
       "      <td>-0.909086</td>\n",
       "      <td>-4.846528</td>\n",
       "      <td>-3.039842</td>\n",
       "    </tr>\n",
       "    <tr>\n",
       "      <th>2</th>\n",
       "      <td>-0.987976</td>\n",
       "      <td>1.386712</td>\n",
       "      <td>-0.185275</td>\n",
       "      <td>3.306495</td>\n",
       "      <td>0.441692</td>\n",
       "    </tr>\n",
       "    <tr>\n",
       "      <th>3</th>\n",
       "      <td>-0.981964</td>\n",
       "      <td>-0.850033</td>\n",
       "      <td>-0.403745</td>\n",
       "      <td>-2.245131</td>\n",
       "      <td>-0.930482</td>\n",
       "    </tr>\n",
       "    <tr>\n",
       "      <th>4</th>\n",
       "      <td>-0.975952</td>\n",
       "      <td>-0.183555</td>\n",
       "      <td>-0.118688</td>\n",
       "      <td>-0.537794</td>\n",
       "      <td>0.109605</td>\n",
       "    </tr>\n",
       "  </tbody>\n",
       "</table>\n",
       "</div>"
      ],
      "text/plain": [
       "          x         y         d    Rivals  Windstream\n",
       "0 -1.000000  2.017288  0.149086  3.057529   -0.292670\n",
       "1 -0.993988 -1.772899 -0.909086 -4.846528   -3.039842\n",
       "2 -0.987976  1.386712 -0.185275  3.306495    0.441692\n",
       "3 -0.981964 -0.850033 -0.403745 -2.245131   -0.930482\n",
       "4 -0.975952 -0.183555 -0.118688 -0.537794    0.109605"
      ]
     },
     "execution_count": 48,
     "metadata": {},
     "output_type": "execute_result"
    }
   ],
   "source": [
    "sample_size=500\n",
    "# generate an independent variable \n",
    "x = np.linspace(-1, 2, sample_size)\n",
    "# generate two normally distributed independent variables  residual\n",
    "y = np.random.normal(0, 1, sample_size)\n",
    "d = np.random.normal(0, 1, sample_size)\n",
    "\n",
    "#Create sample\n",
    "xi=np.random.normal(0, st_1, sample_size);\n",
    "epsilon=xi*kappa+np.random.normal(0, st_2, sample_size);\n",
    "X1 = mu_1+x*mu_1x+y*mu_1y+xi; #Competitors\n",
    "X2 = mu_2+x*mu_2x+d*mu_2d+epsilon; #Windstream\n",
    "\n",
    "df = pd.DataFrame({'x':x, 'y':y, 'd':d, 'Rivals':X1, 'Windstream':X2})\n",
    "df.head()"
   ]
  },
  {
   "cell_type": "code",
   "execution_count": 100,
   "metadata": {},
   "outputs": [
    {
     "data": {
      "text/html": [
       "<div>\n",
       "<style scoped>\n",
       "    .dataframe tbody tr th:only-of-type {\n",
       "        vertical-align: middle;\n",
       "    }\n",
       "\n",
       "    .dataframe tbody tr th {\n",
       "        vertical-align: top;\n",
       "    }\n",
       "\n",
       "    .dataframe thead th {\n",
       "        text-align: right;\n",
       "    }\n",
       "</style>\n",
       "<table border=\"1\" class=\"dataframe\">\n",
       "  <thead>\n",
       "    <tr style=\"text-align: right;\">\n",
       "      <th></th>\n",
       "      <th>x</th>\n",
       "      <th>y</th>\n",
       "      <th>d</th>\n",
       "      <th>Rivals</th>\n",
       "      <th>Windstream</th>\n",
       "      <th>Observed_LastBid</th>\n",
       "      <th>Censored</th>\n",
       "    </tr>\n",
       "  </thead>\n",
       "  <tbody>\n",
       "    <tr>\n",
       "      <th>0</th>\n",
       "      <td>-1.000000</td>\n",
       "      <td>2.017288</td>\n",
       "      <td>0.149086</td>\n",
       "      <td>3.057529</td>\n",
       "      <td>-0.292670</td>\n",
       "      <td>3.057529</td>\n",
       "      <td>1</td>\n",
       "    </tr>\n",
       "    <tr>\n",
       "      <th>1</th>\n",
       "      <td>-0.993988</td>\n",
       "      <td>-1.772899</td>\n",
       "      <td>-0.909086</td>\n",
       "      <td>-4.846528</td>\n",
       "      <td>-3.039842</td>\n",
       "      <td>-3.039842</td>\n",
       "      <td>0</td>\n",
       "    </tr>\n",
       "    <tr>\n",
       "      <th>2</th>\n",
       "      <td>-0.987976</td>\n",
       "      <td>1.386712</td>\n",
       "      <td>-0.185275</td>\n",
       "      <td>3.306495</td>\n",
       "      <td>0.441692</td>\n",
       "      <td>3.306495</td>\n",
       "      <td>1</td>\n",
       "    </tr>\n",
       "    <tr>\n",
       "      <th>3</th>\n",
       "      <td>-0.981964</td>\n",
       "      <td>-0.850033</td>\n",
       "      <td>-0.403745</td>\n",
       "      <td>-2.245131</td>\n",
       "      <td>-0.930482</td>\n",
       "      <td>-0.930482</td>\n",
       "      <td>0</td>\n",
       "    </tr>\n",
       "    <tr>\n",
       "      <th>4</th>\n",
       "      <td>-0.975952</td>\n",
       "      <td>-0.183555</td>\n",
       "      <td>-0.118688</td>\n",
       "      <td>-0.537794</td>\n",
       "      <td>0.109605</td>\n",
       "      <td>0.109605</td>\n",
       "      <td>0</td>\n",
       "    </tr>\n",
       "  </tbody>\n",
       "</table>\n",
       "</div>"
      ],
      "text/plain": [
       "          x         y         d    Rivals  Windstream  Observed_LastBid  \\\n",
       "0 -1.000000  2.017288  0.149086  3.057529   -0.292670          3.057529   \n",
       "1 -0.993988 -1.772899 -0.909086 -4.846528   -3.039842         -3.039842   \n",
       "2 -0.987976  1.386712 -0.185275  3.306495    0.441692          3.306495   \n",
       "3 -0.981964 -0.850033 -0.403745 -2.245131   -0.930482         -0.930482   \n",
       "4 -0.975952 -0.183555 -0.118688 -0.537794    0.109605          0.109605   \n",
       "\n",
       "   Censored  \n",
       "0         1  \n",
       "1         0  \n",
       "2         1  \n",
       "3         0  \n",
       "4         0  "
      ]
     },
     "execution_count": 100,
     "metadata": {},
     "output_type": "execute_result"
    },
    {
     "name": "stderr",
     "output_type": "stream",
     "text": [
      "<ipython-input-100-28e2d640e433>:9: SettingWithCopyWarning: \n",
      "A value is trying to be set on a copy of a slice from a DataFrame.\n",
      "Try using .loc[row_indexer,col_indexer] = value instead\n",
      "\n",
      "See the caveats in the documentation: https://pandas.pydata.org/pandas-docs/stable/user_guide/indexing.html#returning-a-view-versus-a-copy\n",
      "  Sample['constant']=1\n"
     ]
    },
    {
     "data": {
      "text/html": [
       "<div>\n",
       "<style scoped>\n",
       "    .dataframe tbody tr th:only-of-type {\n",
       "        vertical-align: middle;\n",
       "    }\n",
       "\n",
       "    .dataframe tbody tr th {\n",
       "        vertical-align: top;\n",
       "    }\n",
       "\n",
       "    .dataframe thead th {\n",
       "        text-align: right;\n",
       "    }\n",
       "</style>\n",
       "<table border=\"1\" class=\"dataframe\">\n",
       "  <thead>\n",
       "    <tr style=\"text-align: right;\">\n",
       "      <th></th>\n",
       "      <th>x</th>\n",
       "      <th>y</th>\n",
       "      <th>d</th>\n",
       "      <th>Observed_LastBid</th>\n",
       "      <th>Censored</th>\n",
       "      <th>constant</th>\n",
       "      <th>cdf_aux</th>\n",
       "    </tr>\n",
       "  </thead>\n",
       "  <tbody>\n",
       "    <tr>\n",
       "      <th>0</th>\n",
       "      <td>-1.000000</td>\n",
       "      <td>2.017288</td>\n",
       "      <td>0.149086</td>\n",
       "      <td>3.057529</td>\n",
       "      <td>1</td>\n",
       "      <td>1</td>\n",
       "      <td>NaN</td>\n",
       "    </tr>\n",
       "    <tr>\n",
       "      <th>1</th>\n",
       "      <td>-0.993988</td>\n",
       "      <td>-1.772899</td>\n",
       "      <td>-0.909086</td>\n",
       "      <td>-3.039842</td>\n",
       "      <td>0</td>\n",
       "      <td>1</td>\n",
       "      <td>NaN</td>\n",
       "    </tr>\n",
       "    <tr>\n",
       "      <th>2</th>\n",
       "      <td>-0.987976</td>\n",
       "      <td>1.386712</td>\n",
       "      <td>-0.185275</td>\n",
       "      <td>3.306495</td>\n",
       "      <td>1</td>\n",
       "      <td>1</td>\n",
       "      <td>NaN</td>\n",
       "    </tr>\n",
       "    <tr>\n",
       "      <th>3</th>\n",
       "      <td>-0.981964</td>\n",
       "      <td>-0.850033</td>\n",
       "      <td>-0.403745</td>\n",
       "      <td>-0.930482</td>\n",
       "      <td>0</td>\n",
       "      <td>1</td>\n",
       "      <td>NaN</td>\n",
       "    </tr>\n",
       "    <tr>\n",
       "      <th>4</th>\n",
       "      <td>-0.975952</td>\n",
       "      <td>-0.183555</td>\n",
       "      <td>-0.118688</td>\n",
       "      <td>0.109605</td>\n",
       "      <td>0</td>\n",
       "      <td>1</td>\n",
       "      <td>NaN</td>\n",
       "    </tr>\n",
       "  </tbody>\n",
       "</table>\n",
       "</div>"
      ],
      "text/plain": [
       "          x         y         d  Observed_LastBid  Censored  constant  cdf_aux\n",
       "0 -1.000000  2.017288  0.149086          3.057529         1         1      NaN\n",
       "1 -0.993988 -1.772899 -0.909086         -3.039842         0         1      NaN\n",
       "2 -0.987976  1.386712 -0.185275          3.306495         1         1      NaN\n",
       "3 -0.981964 -0.850033 -0.403745         -0.930482         0         1      NaN\n",
       "4 -0.975952 -0.183555 -0.118688          0.109605         0         1      NaN"
      ]
     },
     "execution_count": 100,
     "metadata": {},
     "output_type": "execute_result"
    }
   ],
   "source": [
    "df['Observed_LastBid']=0\n",
    "df['Censored']=0\n",
    "df.loc[df['Rivals']>=df['Windstream'],'Observed_LastBid']=df.loc[df['Rivals']>=df['Windstream'],'Rivals']\n",
    "df.loc[df['Rivals']>=df['Windstream'],'Censored']=1\n",
    "df.loc[df['Rivals']<df['Windstream'],'Observed_LastBid']=df.loc[df['Rivals']<df['Windstream'],'Windstream']\n",
    "df.head()\n",
    "\n",
    "Sample=df[['x','y','d','Observed_LastBid','Censored']]\n",
    "Sample['constant']=1\n",
    "Sample.head()"
   ]
  },
  {
   "cell_type": "markdown",
   "metadata": {},
   "source": [
    "# 2. Generate simulation draws for SMLE estimation"
   ]
  },
  {
   "cell_type": "code",
   "execution_count": 101,
   "metadata": {},
   "outputs": [
    {
     "data": {
      "text/html": [
       "<div>\n",
       "<style scoped>\n",
       "    .dataframe tbody tr th:only-of-type {\n",
       "        vertical-align: middle;\n",
       "    }\n",
       "\n",
       "    .dataframe tbody tr th {\n",
       "        vertical-align: top;\n",
       "    }\n",
       "\n",
       "    .dataframe thead th {\n",
       "        text-align: right;\n",
       "    }\n",
       "</style>\n",
       "<table border=\"1\" class=\"dataframe\">\n",
       "  <thead>\n",
       "    <tr style=\"text-align: right;\">\n",
       "      <th></th>\n",
       "      <th>draws</th>\n",
       "      <th>constant</th>\n",
       "    </tr>\n",
       "  </thead>\n",
       "  <tbody>\n",
       "    <tr>\n",
       "      <th>0</th>\n",
       "      <td>-0.683938</td>\n",
       "      <td>1</td>\n",
       "    </tr>\n",
       "    <tr>\n",
       "      <th>1</th>\n",
       "      <td>1.431461</td>\n",
       "      <td>1</td>\n",
       "    </tr>\n",
       "    <tr>\n",
       "      <th>2</th>\n",
       "      <td>-0.137604</td>\n",
       "      <td>1</td>\n",
       "    </tr>\n",
       "    <tr>\n",
       "      <th>3</th>\n",
       "      <td>-1.454913</td>\n",
       "      <td>1</td>\n",
       "    </tr>\n",
       "    <tr>\n",
       "      <th>4</th>\n",
       "      <td>0.513520</td>\n",
       "      <td>1</td>\n",
       "    </tr>\n",
       "  </tbody>\n",
       "</table>\n",
       "</div>"
      ],
      "text/plain": [
       "      draws  constant\n",
       "0 -0.683938         1\n",
       "1  1.431461         1\n",
       "2 -0.137604         1\n",
       "3 -1.454913         1\n",
       "4  0.513520         1"
      ]
     },
     "execution_count": 101,
     "metadata": {},
     "output_type": "execute_result"
    }
   ],
   "source": [
    "sim_draws = np.random.normal(0, 1, 1000)\n",
    "df_draws = pd.DataFrame({'draws':sim_draws})\n",
    "df_draws['constant']=1\n",
    "df_draws.head()"
   ]
  },
  {
   "cell_type": "markdown",
   "metadata": {},
   "source": [
    "# 3. Define Likelihood function"
   ]
  },
  {
   "cell_type": "code",
   "execution_count": 105,
   "metadata": {},
   "outputs": [],
   "source": [
    " # Likelihood function\n",
    "def Likelihood(parameters):\n",
    "    mu_1, mu_1x, mu_1y,st_1,mu_2,mu_2x,mu_2d,st_2,kappa= parameters\n",
    "    st_1=np.abs(st_1+0.001)\n",
    "    st_2=np.abs(st_2+0.001)\n",
    "\n",
    "    aux=Sample.copy()\n",
    "    aux['Windstream']=mu_2*aux['constant']+mu_2x*aux['x']+mu_2d*aux['d'] #mean utility Windstream   \n",
    "    aux['Rivals']=mu_1*aux['constant']+mu_1x*aux['x']+mu_1y*aux['y'] #mean utility rivals\n",
    "\n",
    "    aux_unc = aux.loc[aux['Censored']==0,:] \n",
    "    aux_cen = aux.loc[aux['Censored']==1,:] \n",
    "\n",
    "    LL1 = np.sum(stats.norm.logpdf(((aux_cen['Observed_LastBid']-aux_cen['Rivals'])/st_1), 0, 1))\n",
    "    LL2 = np.sum(stats.norm.logcdf(((aux_cen['Observed_LastBid']-aux_cen['Windstream']-kappa*(aux_cen['Observed_LastBid']-aux_cen['Rivals']))/st_2).to_numpy(), 0, 1))\n",
    "    LL=LL1+LL2+aux_cen.shape[0]*np.log(1/st_1)\n",
    "    #aux_unc['cdf_aux'] = np.nan\n",
    "    aux_unc['cdf_aux'] = stats.norm.cdf((aux_unc['Observed_LastBid']-aux_unc['Rivals']), 0, st_1).tolist()\n",
    "    LL=LL+(aux_unc.loc[aux_unc['cdf_aux']<=0.001,:].shape[0])*(np.log(0.00000001)+np.log(1/(st_2)))\n",
    "    \n",
    "    for index, row in aux_unc.loc[aux_unc['cdf_aux']>0.001,:].iterrows():\n",
    "            aux_draws=df_draws.copy()\n",
    "            aux_draws['draws']=aux_draws['draws']*st_1\n",
    "            aux_draws=aux_draws.loc[(aux_draws['draws']<(row['Observed_LastBid']-row['Rivals'])),:]\n",
    "            aux_draws_num=aux_draws.shape[0]\n",
    "            if aux_draws_num>=1:\n",
    "                LL3=np.sum(stats.norm.pdf(((row['Observed_LastBid']*aux_draws['constant']-row['Windstream']*aux_draws['constant']-kappa*aux_draws['draws'])/(st_2))))\n",
    "                LL=LL+np.log((LL3/aux_draws_num)*stats.norm.cdf((row['Observed_LastBid']-row['Rivals']), 0, st_1)+0.000000001)+np.log(1/(st_2))\n",
    "            else:\n",
    "                LL=LL+np.log(0.00000001)+np.log(1/(st_2))\n",
    "\n",
    "    neg_LL=-LL            \n",
    "    return neg_LL "
   ]
  },
  {
   "cell_type": "markdown",
   "metadata": {},
   "source": [
    "# 4. Find parameters that maximize the log-likelihood"
   ]
  },
  {
   "cell_type": "code",
   "execution_count": 108,
   "metadata": {},
   "outputs": [],
   "source": [
    "pd.options.mode.chained_assignment = None  # default='warn'"
   ]
  },
  {
   "cell_type": "code",
   "execution_count": 119,
   "metadata": {
    "scrolled": true
   },
   "outputs": [
    {
     "name": "stdout",
     "output_type": "stream",
     "text": [
      "Optimization terminated successfully.\n",
      "         Current function value: 454.648841\n",
      "         Iterations: 713\n",
      "         Function evaluations: 1018\n"
     ]
    },
    {
     "ename": "AttributeError",
     "evalue": "'numpy.ndarray' object has no attribute 'x'",
     "output_type": "error",
     "traceback": [
      "\u001b[0;31m---------------------------------------------------------------------------\u001b[0m",
      "\u001b[0;31mAttributeError\u001b[0m                            Traceback (most recent call last)",
      "\u001b[0;32m<ipython-input-119-dfa41ebd6d27>\u001b[0m in \u001b[0;36m<module>\u001b[0;34m\u001b[0m\n\u001b[1;32m      1\u001b[0m \u001b[0;31m#model = minimize(Likelihood, np.array([1,1,1,1,1,1,1,1,0]), method='Nelder-Mead',options={'disp': True})\u001b[0m\u001b[0;34m\u001b[0m\u001b[0;34m\u001b[0m\u001b[0;34m\u001b[0m\u001b[0m\n\u001b[1;32m      2\u001b[0m \u001b[0mmodel\u001b[0m \u001b[0;34m=\u001b[0m \u001b[0moptimize\u001b[0m\u001b[0;34m.\u001b[0m\u001b[0mfmin\u001b[0m\u001b[0;34m(\u001b[0m\u001b[0mLikelihood\u001b[0m\u001b[0;34m,\u001b[0m \u001b[0mnp\u001b[0m\u001b[0;34m.\u001b[0m\u001b[0marray\u001b[0m\u001b[0;34m(\u001b[0m\u001b[0;34m[\u001b[0m\u001b[0;36m1\u001b[0m\u001b[0;34m,\u001b[0m\u001b[0;36m1\u001b[0m\u001b[0;34m,\u001b[0m\u001b[0;36m1\u001b[0m\u001b[0;34m,\u001b[0m\u001b[0;36m1\u001b[0m\u001b[0;34m,\u001b[0m\u001b[0;36m1\u001b[0m\u001b[0;34m,\u001b[0m\u001b[0;36m1\u001b[0m\u001b[0;34m,\u001b[0m\u001b[0;36m1\u001b[0m\u001b[0;34m,\u001b[0m\u001b[0;36m1\u001b[0m\u001b[0;34m,\u001b[0m\u001b[0;36m0\u001b[0m\u001b[0;34m]\u001b[0m\u001b[0;34m)\u001b[0m\u001b[0;34m)\u001b[0m\u001b[0;34m\u001b[0m\u001b[0;34m\u001b[0m\u001b[0m\n\u001b[0;32m----> 3\u001b[0;31m \u001b[0mmodel2\u001b[0m \u001b[0;34m=\u001b[0m \u001b[0moptimize\u001b[0m\u001b[0;34m.\u001b[0m\u001b[0mfmin\u001b[0m\u001b[0;34m(\u001b[0m\u001b[0mLikelihood\u001b[0m\u001b[0;34m,\u001b[0m \u001b[0mmodel\u001b[0m\u001b[0;34m.\u001b[0m\u001b[0mx\u001b[0m\u001b[0;34m)\u001b[0m\u001b[0;34m\u001b[0m\u001b[0;34m\u001b[0m\u001b[0m\n\u001b[0m\u001b[1;32m      4\u001b[0m \u001b[0mmodel2\u001b[0m\u001b[0;34m\u001b[0m\u001b[0;34m\u001b[0m\u001b[0m\n",
      "\u001b[0;31mAttributeError\u001b[0m: 'numpy.ndarray' object has no attribute 'x'"
     ]
    }
   ],
   "source": [
    "#model = minimize(Likelihood, np.array([1,1,1,1,1,1,1,1,0]), method='Nelder-Mead',options={'disp': True})\n",
    "model = optimize.fmin(Likelihood, np.array([1,1,1,1,1,1,1,1,0]))"
   ]
  },
  {
   "cell_type": "code",
   "execution_count": 121,
   "metadata": {},
   "outputs": [
    {
     "name": "stdout",
     "output_type": "stream",
     "text": [
      "Optimization terminated successfully.\n",
      "         Current function value: 445.866060\n",
      "         Iterations: 660\n",
      "         Function evaluations: 1034\n"
     ]
    },
    {
     "data": {
      "text/plain": [
       "array([0.03858931, 0.45942954, 2.01903323, 0.48508908, 0.00369532,\n",
       "       0.4926276 , 2.0651525 , 0.47557011, 0.65352029])"
      ]
     },
     "execution_count": 121,
     "metadata": {},
     "output_type": "execute_result"
    }
   ],
   "source": [
    "model2 = optimize.fmin(Likelihood, model)\n",
    "model2"
   ]
  },
  {
   "cell_type": "code",
   "execution_count": 123,
   "metadata": {
    "scrolled": true
   },
   "outputs": [
    {
     "data": {
      "text/plain": [
       "array([0. , 0.5, 2. , 0.5, 0. , 0.5, 2. , 0.5, 0.5])"
      ]
     },
     "execution_count": 123,
     "metadata": {},
     "output_type": "execute_result"
    }
   ],
   "source": [
    "np.array([mu_1, mu_1x, mu_1y,st_1,mu_2,mu_2x,mu_2d,st_2,kappa])"
   ]
  },
  {
   "cell_type": "code",
   "execution_count": 117,
   "metadata": {
    "scrolled": true
   },
   "outputs": [
    {
     "data": {
      "text/plain": [
       "450.11097168548105"
      ]
     },
     "execution_count": 117,
     "metadata": {},
     "output_type": "execute_result"
    }
   ],
   "source": [
    "Likelihood(np.array([1,1,1,1,1,1,1,1,0]))\n",
    "Likelihood(model2.x)\n",
    "Likelihood(np.array([mu_1, mu_1x, mu_1y,st_1,mu_2,mu_2x,mu_2d,st_2,kappa]))"
   ]
  },
  {
   "cell_type": "code",
   "execution_count": null,
   "metadata": {},
   "outputs": [],
   "source": []
  }
 ],
 "metadata": {
  "kernelspec": {
   "display_name": "Python 3",
   "language": "python",
   "name": "python3"
  },
  "language_info": {
   "codemirror_mode": {
    "name": "ipython",
    "version": 3
   },
   "file_extension": ".py",
   "mimetype": "text/x-python",
   "name": "python",
   "nbconvert_exporter": "python",
   "pygments_lexer": "ipython3",
   "version": "3.8.5"
  }
 },
 "nbformat": 4,
 "nbformat_minor": 4
}
